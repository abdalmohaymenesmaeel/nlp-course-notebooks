{
 "cells": [
  {
   "cell_type": "code",
   "execution_count": 7,
   "id": "a3465bc1",
   "metadata": {},
   "outputs": [],
   "source": [
    "import os\n",
    "import torch\n",
    "import torchmetrics\n",
    "import torchvision\n",
    "from torchvision import datasets, transforms\n",
    "import numpy as np\n",
    "from dataclasses import dataclass\n",
    "from pathlib import Path\n",
    "from torch import nn\n",
    "from matplotlib import pyplot as plt\n",
    "from sklearn.datasets import load_digits\n",
    "\n",
    "%matplotlib inline"
   ]
  },
  {
   "cell_type": "markdown",
   "id": "1f31f386",
   "metadata": {},
   "source": [
    "# Introduction"
   ]
  },
  {
   "cell_type": "markdown",
   "id": "9a45b60d",
   "metadata": {},
   "source": [
    "The goal of this exercise is to implement a machine learning project using PyTorch and its ecosystem of packages.\n",
    "\n",
    "The task at hand is MNIST image classification, given a grayscale image of handwritten image, the task is to classify the image and determine which digit it represents from (0-9)\n",
    "\n",
    "The neural network that we will implement is a simple Feed Forward Neural Network (FFNN)\n",
    "\n",
    "In this exercise we will be using the following extra packages for PyTorch:\n",
    "\n",
    "1. [`torchvision`](https://pytorch.org/vision/stable/index.html): computer vision utility functions and extensions for PyTroch\n",
    "2. [`torchmetrics`](https://torchmetrics.readthedocs.io/en/stable/all-metrics.html): ready to use metrics for evaluating a machine learning model"
   ]
  },
  {
   "cell_type": "markdown",
   "id": "f123d749",
   "metadata": {},
   "source": [
    "## Instructions\n",
    "\n",
    "1. Some tasks are already done for you, with a link to the related documentation left for your reference\n",
    "2. Tasks that you're required to do are labeled with `TODO`\n",
    "3. Use search engines and the official documentation as much as you can to gain better insights on the topics at hand"
   ]
  },
  {
   "cell_type": "markdown",
   "id": "1b317f4b",
   "metadata": {},
   "source": [
    "## Workflow\n",
    "\n",
    "1. Prepare the dataset and data loaders\n",
    "2. Explore the dataset visually\n",
    "3. Define the model architecture\n",
    "4. Prepare for training, by creating loss function, optimizer and metric function\n",
    "5. Create training scripts and train\n",
    "6. Validate the results visually"
   ]
  },
  {
   "cell_type": "markdown",
   "id": "d6d670ed",
   "metadata": {},
   "source": [
    "## Setup Device"
   ]
  },
  {
   "cell_type": "code",
   "execution_count": 3,
   "id": "566bffaf",
   "metadata": {},
   "outputs": [],
   "source": [
    "device = torch.device(\"cuda\" if torch.cuda.is_available() else \"cpu\")"
   ]
  },
  {
   "cell_type": "code",
   "execution_count": 4,
   "id": "f64e9a3e",
   "metadata": {},
   "outputs": [
    {
     "name": "stdout",
     "output_type": "stream",
     "text": [
      "cuda\n"
     ]
    }
   ],
   "source": [
    "print(device)"
   ]
  },
  {
   "cell_type": "markdown",
   "id": "973c6401",
   "metadata": {},
   "source": [
    "# Dataset"
   ]
  },
  {
   "cell_type": "markdown",
   "id": "c3514b97",
   "metadata": {},
   "source": [
    "## Dataset "
   ]
  },
  {
   "cell_type": "code",
   "execution_count": 5,
   "id": "2cc9ae4a",
   "metadata": {},
   "outputs": [],
   "source": [
    "# Create a local directory to store the dataset\n",
    "data_dir = os.path.join(os.curdir, \"data\")\n",
    "Path(data_dir).mkdir(exist_ok=True)"
   ]
  },
  {
   "cell_type": "markdown",
   "id": "c9e4f15b",
   "metadata": {},
   "source": [
    "`torchvision` is part of PyTorch ecosystem, it has utilities for computer vision models.\n",
    "\n",
    "We will first use the dataset submodule to import the *MNIST* dataset, you can find more details [here](https://pytorch.org/vision/stable/datasets.html)\n",
    "\n"
   ]
  },
  {
   "cell_type": "code",
   "execution_count": 8,
   "id": "3b63e5e3",
   "metadata": {},
   "outputs": [],
   "source": [
    "# Create transform functions to apply to each image once it's downloaded\n",
    "# REFERENCE: https://pytorch.org/vision/stable/transforms.html\n",
    "transforms = torchvision.transforms.Compose(transforms=[\n",
    "    torchvision.transforms.ToTensor(),\n",
    "    torchvision.transforms.Lambda(lambda x: torch.flatten(x))\n",
    "])"
   ]
  },
  {
   "cell_type": "code",
   "execution_count": 9,
   "id": "d5029bab",
   "metadata": {},
   "outputs": [
    {
     "name": "stdout",
     "output_type": "stream",
     "text": [
      "Downloading http://yann.lecun.com/exdb/mnist/train-images-idx3-ubyte.gz\n",
      "Downloading http://yann.lecun.com/exdb/mnist/train-images-idx3-ubyte.gz to data\\MNIST\\raw\\train-images-idx3-ubyte.gz\n"
     ]
    },
    {
     "data": {
      "application/vnd.jupyter.widget-view+json": {
       "model_id": "b87bd43fc1d54c9585cad83c30ac6507",
       "version_major": 2,
       "version_minor": 0
      },
      "text/plain": [
       "  0%|          | 0/9912422 [00:00<?, ?it/s]"
      ]
     },
     "metadata": {},
     "output_type": "display_data"
    },
    {
     "name": "stdout",
     "output_type": "stream",
     "text": [
      "Extracting data\\MNIST\\raw\\train-images-idx3-ubyte.gz to data\\MNIST\\raw\n",
      "\n",
      "Downloading http://yann.lecun.com/exdb/mnist/train-labels-idx1-ubyte.gz\n",
      "Downloading http://yann.lecun.com/exdb/mnist/train-labels-idx1-ubyte.gz to data\\MNIST\\raw\\train-labels-idx1-ubyte.gz\n"
     ]
    },
    {
     "data": {
      "application/vnd.jupyter.widget-view+json": {
       "model_id": "cf97eb1e70594e8b921e23e164f02a40",
       "version_major": 2,
       "version_minor": 0
      },
      "text/plain": [
       "  0%|          | 0/28881 [00:00<?, ?it/s]"
      ]
     },
     "metadata": {},
     "output_type": "display_data"
    },
    {
     "name": "stdout",
     "output_type": "stream",
     "text": [
      "Extracting data\\MNIST\\raw\\train-labels-idx1-ubyte.gz to data\\MNIST\\raw\n",
      "\n",
      "Downloading http://yann.lecun.com/exdb/mnist/t10k-images-idx3-ubyte.gz\n",
      "Downloading http://yann.lecun.com/exdb/mnist/t10k-images-idx3-ubyte.gz to data\\MNIST\\raw\\t10k-images-idx3-ubyte.gz\n"
     ]
    },
    {
     "data": {
      "application/vnd.jupyter.widget-view+json": {
       "model_id": "fe534a0c2c16467aa6665bfda1b57f0e",
       "version_major": 2,
       "version_minor": 0
      },
      "text/plain": [
       "  0%|          | 0/1648877 [00:00<?, ?it/s]"
      ]
     },
     "metadata": {},
     "output_type": "display_data"
    },
    {
     "name": "stdout",
     "output_type": "stream",
     "text": [
      "Extracting data\\MNIST\\raw\\t10k-images-idx3-ubyte.gz to data\\MNIST\\raw\n",
      "\n",
      "Downloading http://yann.lecun.com/exdb/mnist/t10k-labels-idx1-ubyte.gz\n",
      "Downloading http://yann.lecun.com/exdb/mnist/t10k-labels-idx1-ubyte.gz to data\\MNIST\\raw\\t10k-labels-idx1-ubyte.gz\n"
     ]
    },
    {
     "data": {
      "application/vnd.jupyter.widget-view+json": {
       "model_id": "57ab1d3390a44691a8f0e2b82b4ff702",
       "version_major": 2,
       "version_minor": 0
      },
      "text/plain": [
       "  0%|          | 0/4542 [00:00<?, ?it/s]"
      ]
     },
     "metadata": {},
     "output_type": "display_data"
    },
    {
     "name": "stdout",
     "output_type": "stream",
     "text": [
      "Extracting data\\MNIST\\raw\\t10k-labels-idx1-ubyte.gz to data\\MNIST\\raw\n",
      "\n"
     ]
    }
   ],
   "source": [
    "# TODO: Use torchvision datasets to load both MNSIT training and testing splits\n",
    "# REFERENCE: https://pytorch.org/vision/stable/datasets.html\n",
    "train_dataset = datasets.MNIST('data', train=True, download=True,\n",
    "                       transform=transforms)\n",
    "test_dataset = datasets.MNIST('data', train=False,\n",
    "                       transform=transforms)\n"
   ]
  },
  {
   "cell_type": "markdown",
   "id": "90611235",
   "metadata": {},
   "source": [
    "## DataLoader"
   ]
  },
  {
   "cell_type": "code",
   "execution_count": 10,
   "id": "26567850",
   "metadata": {},
   "outputs": [],
   "source": [
    "# Define batch size\n",
    "batch_size = 36\n",
    "\n",
    "# TODO: Create dataloaders, allow shuffle and set the batch size to the defined variable\n",
    "# REFERENCE: https://pytorch.org/tutorials/beginner/basics/data_tutorial.html#preparing-your-data-for-training-with-dataloaders\n",
    "train_loader = torch.utils.data.DataLoader(train_dataset,batch_size)\n",
    "test_loader = torch.utils.data.DataLoader(test_dataset,batch_size)"
   ]
  },
  {
   "cell_type": "markdown",
   "id": "cc480b2c",
   "metadata": {},
   "source": [
    "## Exploration"
   ]
  },
  {
   "cell_type": "code",
   "execution_count": 11,
   "id": "c878c495",
   "metadata": {},
   "outputs": [],
   "source": [
    "samples = train_dataset.data[0]\n",
    "labels = train_dataset.targets[0]"
   ]
  },
  {
   "cell_type": "code",
   "execution_count": 12,
   "id": "1ec8c11b",
   "metadata": {},
   "outputs": [
    {
     "data": {
      "text/plain": [
       "60000"
      ]
     },
     "execution_count": 12,
     "metadata": {},
     "output_type": "execute_result"
    }
   ],
   "source": [
    "len(train_dataset)"
   ]
  },
  {
   "cell_type": "code",
   "execution_count": 13,
   "id": "f674c879",
   "metadata": {},
   "outputs": [
    {
     "data": {
      "text/plain": [
       "torch.Size([28, 28])"
      ]
     },
     "execution_count": 13,
     "metadata": {},
     "output_type": "execute_result"
    }
   ],
   "source": [
    "samples.shape"
   ]
  },
  {
   "cell_type": "code",
   "execution_count": 21,
   "id": "04317445",
   "metadata": {},
   "outputs": [
    {
     "data": {
      "image/png": "[encoded data removed]",
      "text/plain": [
       "<Figure size 864x864 with 6 Axes>"
      ]
     },
     "metadata": {
      "needs_background": "light"
     },
     "output_type": "display_data"
    }
   ],
   "source": [
    "# Explore the dataset manually\n",
    "samples = train_dataset.data[0:6]\n",
    "labels = train_dataset.targets[0:6]\n",
    "\n",
    "fig, axes = plt.subplots(figsize=(12, 12), nrows=3, ncols=2)\n",
    "\n",
    "axes = np.array(axes).flatten()\n",
    "\n",
    "for index, sample in enumerate(samples):\n",
    "    axes[index].imshow(sample)\n",
    "    axes[index].set_title(labels[index].item(), fontdict={\"size\": 15}, pad=15)\n",
    "fig.subplots_adjust(hspace=0.5)"
   ]
  },
  {
   "cell_type": "markdown",
   "id": "749aa12c",
   "metadata": {},
   "source": [
    "# Model"
   ]
  },
  {
   "cell_type": "code",
   "execution_count": 15,
   "id": "cc6c0ed2",
   "metadata": {},
   "outputs": [],
   "source": [
    "# The model class is created for you\n",
    "# TODO: Define a three layer Feed Forward Neural Network (FFNN), \n",
    "# choose the input layer and output layer dimensions as appropriate, \n",
    "# and you can personally choose the hidden dimensions\n",
    "class MNISTClassifier(nn.Module):\n",
    "    def __init__(self):\n",
    "        super(MNISTClassifier, self).__init__()\n",
    "        self.fc1 = nn.Linear(28*28,200)\n",
    "        self.fc2 = nn.Linear(200,200)\n",
    "        self.fc3 = nn.Linear(20,10)\n",
    "    \n",
    "    # TODO: Define the fowrad function given an input image `x`\n",
    "    # REMEMBER: To pass the input to a linear layer and apply an activation function of your choice afterwards\n",
    "    # REMEMBER: The final output activation function is related to the loss function you'll use\n",
    "    def forward(self, x):\n",
    "        x = F.relu(self.fc1(x))\n",
    "        x = F.relu(self.fc2(x))\n",
    "        x = self.fc3(x)\n",
    "        return F.log_softmax(x)"
   ]
  },
  {
   "cell_type": "code",
   "execution_count": 16,
   "id": "1eda779f",
   "metadata": {},
   "outputs": [],
   "source": [
    "# Instanciate the model class and move it to your device \n",
    "model = MNISTClassifier()"
   ]
  },
  {
   "cell_type": "code",
   "execution_count": 17,
   "id": "700e212d",
   "metadata": {},
   "outputs": [
    {
     "data": {
      "text/plain": [
       "MNISTClassifier(\n",
       "  (fc1): Linear(in_features=784, out_features=200, bias=True)\n",
       "  (fc2): Linear(in_features=200, out_features=200, bias=True)\n",
       "  (fc3): Linear(in_features=20, out_features=10, bias=True)\n",
       ")"
      ]
     },
     "execution_count": 17,
     "metadata": {},
     "output_type": "execute_result"
    }
   ],
   "source": [
    "model"
   ]
  },
  {
   "cell_type": "markdown",
   "id": "00398329",
   "metadata": {},
   "source": [
    "# Training"
   ]
  },
  {
   "cell_type": "code",
   "execution_count": 26,
   "id": "b80f219b",
   "metadata": {},
   "outputs": [],
   "source": [
    "import torch.optim as optim\n",
    "from torchmetrics import F1Score\n",
    "# Define number of epochs for training\n",
    "epochs = 15\n",
    "\n",
    "# TODO: Define the optimizer, loss criterion\n",
    "optim = optim.SGD(net.parameters(), lr=0.001, momentum=0.9)\n",
    "critertion = nn.CrossEntropyLoss()\n",
    "# TODO: Define a metric function (F1 Score) to evaluate the model\n",
    "# REFERENCE: https://torchmetrics.readthedocs.io/en/stable/pages/overview.html\n",
    "# REMEMBER: To move the metric function to the appropriate device\n",
    "metric = F1Score(num_classes=10)"
   ]
  },
  {
   "cell_type": "code",
   "execution_count": 27,
   "id": "d349367f",
   "metadata": {},
   "outputs": [],
   "source": [
    "# A dataclass object defined to store the loss and metric results of each epoch\n",
    "# REFERENCE: https://realpython.com/python-data-classes/\n",
    "@dataclass\n",
    "class Epoch:\n",
    "    epoch: int\n",
    "    training_loss: float\n",
    "    validation_loss: float\n",
    "    training_acc: float\n",
    "    validation_acc: float\n",
    "        \n",
    "    \n",
    "    def log(self) -> None:\n",
    "        print(f\"Epoch {self.epoch + 1}: Training Loss: {self.training_loss}\\tValidation Loss: {self.validation_loss} || Training F1: {self.training_acc}\\tValidation F1: {self.validation_acc}\\n----------------------------------------------------\")"
   ]
  },
  {
   "cell_type": "markdown",
   "id": "d4063a0f",
   "metadata": {},
   "source": [
    "Instructions for training script ***for each epoch***:\n",
    "\n",
    "1. Set the initial epoch train and validation loss and metric to zero and reset the metric function\n",
    "2. Set the model to training mode \n",
    "3. Load all batches in *train* dataloader\n",
    "4. For each batch, unpack the inputs and target, move them to the correct device and pass them to the model to get predictions\n",
    "5. Calculate loss and metric values for the prediction\n",
    "6. Backpropagate the loss\n",
    "7. Accumulate the epoch train loss and metric\n",
    "8. Repeat the previous steps with appropriate changes to evaluate the model on the *test* data \n",
    "9. Store the epoch results in a history list\n",
    "\n",
    " "
   ]
  },
  {
   "cell_type": "code",
   "execution_count": null,
   "id": "69ac3983",
   "metadata": {
    "scrolled": true
   },
   "outputs": [],
   "source": [
    "history: list[Epoch] = []\n",
    "\n",
    "for epoch in range(epochs):\n",
    "    # TODO: Define epoch train and test: loss and metrics\n",
    "    # TODO: Make sure to reset the metric function\n",
    "    \n",
    "    # TODO: Set the model to training mode\n",
    "    \n",
    "    # Iterate train batches\n",
    "    for batch in train_loader:\n",
    "        \n",
    "        # REMEMBER: you need to reset the optimizer in order to avoid incorrect accumulation of gradientrs \n",
    "\n",
    "        \n",
    "        # TODO: Unpack the batch and move it to the correct device\n",
    "        inputs, target = \n",
    "        inputs, target = \n",
    "\n",
    "        # TODO: get prediction from model\n",
    "        predictions = \n",
    "        \n",
    "        # TODO: Calculate loss and metric\n",
    "        loss = \n",
    "        f1 = \n",
    "        \n",
    "        # TODO: Backward propagataion\n",
    "        \n",
    "        \n",
    "        # Accumulate train loss\n",
    "        epoch_train_loss += loss.item()\n",
    "    \n",
    "    # Calculate epoch training metric\n",
    "    epoch_train_f1 = round(metric.compute().item(), 3)\n",
    "\n",
    "    \n",
    "    # TODO: set the model to test mode\n",
    "\n",
    "    # Reset the metric function\n",
    "    metric.reset()\n",
    "    # Make sure PyTorch will run inference without tracking gradients for enhancing performance\n",
    "    with torch.no_grad():\n",
    "        # TODO: Load batches from `test_loader`\n",
    "        for  in :\n",
    "            \n",
    "            # TODO: Unpack the batch and move it to the correct device\n",
    "            inputs, target = \n",
    "            inputs, target = \n",
    "\n",
    "            # TODO: get prediction from model\n",
    "            predictions = \n",
    "            \n",
    "            # TODO: Calculate loss and metric values\n",
    "            loss = \n",
    "            f1 = \n",
    "            \n",
    "            # TODO: Accumulate validation loss\n",
    "            epoch_val_loss += \n",
    "            \n",
    "        # TODO: Calculate epoch validation metric\n",
    "        epoch_val_f1 = \n",
    "      \n",
    "\n",
    "    # Calculate epoch training loss\n",
    "    epoch_train_loss = round(epoch_train_loss / len(train_loader), 3)\n",
    "    # TODO: Calculate epoch validation loss\n",
    "    epoch_val_loss = \n",
    "    \n",
    "    # TODO: Create `Epoch` instance with the results\n",
    "    epoch_result = Epoch(epoch=epoch, \n",
    "                         training_loss=, \n",
    "                         validation_loss=,\n",
    "                         training_acc=,\n",
    "                         validation_acc=,\n",
    "                        )\n",
    "    \n",
    "    # Add to history list\n",
    "    history.append(epoch_result)\n",
    "    # Log epoch output\n",
    "    epoch_result.log()"
   ]
  },
  {
   "cell_type": "markdown",
   "id": "6d26569b",
   "metadata": {},
   "source": [
    "# Visual Evaluation"
   ]
  },
  {
   "cell_type": "code",
   "execution_count": null,
   "id": "a0b187bf",
   "metadata": {},
   "outputs": [],
   "source": [
    "sample = next(iter(test_loader))\n",
    "inputs, labels = sample\n",
    "\n",
    "\n",
    "fig, axes = plt.subplots(figsize=(20, 20), ncols=6, nrows=6)\n",
    "\n",
    "axes = np.array(axes).flatten()\n",
    "\n",
    "model.eval()\n",
    "for index in range(len(inputs)):\n",
    "    im = inputs[index]\n",
    "    label = labels[index].item()\n",
    "    \n",
    "    prediction = torch.softmax(model(im.to(device)), dim=-1)\n",
    "    prediction = torch.argmax(prediction).item()\n",
    "    \n",
    "    color = \"green\" if prediction == label else \"red\"\n",
    "    axes[index].set_title(f\"Predicted: {prediction}  Actual: {label}\", color=color)\n",
    "    \n",
    " \n",
    "    axes[index].imshow(im.reshape((28, 28)))\n",
    "    \n",
    "    \n",
    "fig.suptitle(\"Sample Predictions\", y=0.92, fontsize=15)\n",
    "fig.subplots_adjust(hspace=0.5)"
   ]
  },
  {
   "cell_type": "markdown",
   "id": "124e7393",
   "metadata": {},
   "source": [
    "# Extras"
   ]
  },
  {
   "cell_type": "markdown",
   "id": "a04671c3",
   "metadata": {},
   "source": [
    "1. Train the model on the Fashion MNIST dataset\n",
    "2. Create a deeper neural network\n",
    "3. Try a different metric function"
   ]
  },
  {
   "cell_type": "code",
   "execution_count": null,
   "id": "8a73623a",
   "metadata": {},
   "outputs": [],
   "source": []
  }
 ],
 "metadata": {
  "kernelspec": {
   "display_name": "Python 3",
   "language": "python",
   "name": "python3"
  },
  "language_info": {
   "codemirror_mode": {
    "name": "ipython",
    "version": 3
   },
   "file_extension": ".py",
   "mimetype": "text/x-python",
   "name": "python",
   "nbconvert_exporter": "python",
   "pygments_lexer": "ipython3",
   "version": "3.8.8"
  },
  "toc": {
   "base_numbering": 1,
   "nav_menu": {},
   "number_sections": true,
   "sideBar": true,
   "skip_h1_title": false,
   "title_cell": "Table of Contents",
   "title_sidebar": "Contents",
   "toc_cell": false,
   "toc_position": {},
   "toc_section_display": true,
   "toc_window_display": true
  }
 },
 "nbformat": 4,
 "nbformat_minor": 5
}
