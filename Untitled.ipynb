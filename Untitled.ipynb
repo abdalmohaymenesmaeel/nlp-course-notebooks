{
 "cells": [
  {
   "cell_type": "markdown",
   "id": "f384d9dc-448a-49d8-a454-14a5f080f333",
   "metadata": {},
   "source": [
    "$$\n",
    "y=(x+y)+2\n",
    "$$"
   ]
  },
  {
   "cell_type": "markdown",
   "id": "2f0fd22f-6e48-48c3-8e01-c4e1e0bd1040",
   "metadata": {},
   "source": [
    "$$\n",
    "\\(1+2+3+\\cdots+10=\\displaystyle\\sum_{n=1}^{10}n\\)\n",
    "$$"
   ]
  },
  {
   "cell_type": "markdown",
   "id": "87cfb081-f7a1-4f5a-bd89-3e265098279d",
   "metadata": {},
   "source": [
    "$$\n",
    "\\displaystyle\\sum_{n=1}^{10}n\n",
    "$$"
   ]
  },
  {
   "cell_type": "code",
   "execution_count": null,
   "id": "0e867b63-8110-480b-a3ed-e44d4098f205",
   "metadata": {},
   "outputs": [],
   "source": []
  }
 ],
 "metadata": {
  "kernelspec": {
   "display_name": "Python 3 (ipykernel)",
   "language": "python",
   "name": "python3"
  },
  "language_info": {
   "codemirror_mode": {
    "name": "ipython",
    "version": 3
   },
   "file_extension": ".py",
   "mimetype": "text/x-python",
   "name": "python",
   "nbconvert_exporter": "python",
   "pygments_lexer": "ipython3",
   "version": "3.9.12"
  }
 },
 "nbformat": 4,
 "nbformat_minor": 5
}
